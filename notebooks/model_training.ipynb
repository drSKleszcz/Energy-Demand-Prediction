{
 "cells": [
  {
   "cell_type": "code",
   "execution_count": null,
   "id": "4415b19e",
   "metadata": {},
   "outputs": [],
   "source": [
    "from sklearn.model_selection import train_test_split\n",
    "\n",
    "# Define target and features\n",
    "y = df_pl[\"PL_load [MW]\"]  # or your renamed target\n",
    "X = df_pl.drop(columns=[\"PL_load [MW]\"])\n",
    "\n",
    "# Time-based split: no shuffling\n",
    "X_train, X_test, y_train, y_test = train_test_split(\n",
    "    X, y, test_size=0.2, shuffle=False\n",
    ")"
   ]
  }
 ],
 "metadata": {
  "language_info": {
   "name": "python"
  }
 },
 "nbformat": 4,
 "nbformat_minor": 5
}
