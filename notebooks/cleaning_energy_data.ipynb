{
 "cells": [
  {
   "cell_type": "code",
   "execution_count": 54,
   "id": "8184cf3a",
   "metadata": {},
   "outputs": [
    {
     "name": "stdout",
     "output_type": "stream",
     "text": [
      "c:\\Energy-Demand-Prediction\\data\\time_series_60min_singleindex.csv\n"
     ]
    }
   ],
   "source": [
    "import pandas as pd\n",
    "from pathlib import Path\n",
    "import os\n",
    "\n",
    "base_directory = Path(os.getcwd()).parent\n",
    "file_path = \"data\\\\time_series_60min_singleindex.csv\"\n",
    "path = os.path.join(base_directory, file_path)\n",
    "\n",
    "print(path)"
   ]
  },
  {
   "cell_type": "code",
   "execution_count": 55,
   "id": "33b459b6",
   "metadata": {},
   "outputs": [],
   "source": [
    "df = pd.read_csv(path, parse_dates=[\"utc_timestamp\"], index_col=\"utc_timestamp\")"
   ]
  },
  {
   "cell_type": "code",
   "execution_count": 56,
   "id": "e3effe36",
   "metadata": {},
   "outputs": [
    {
     "data": {
      "text/plain": [
       "Index(['cet_cest_timestamp', 'AT_load_actual_entsoe_transparency',\n",
       "       'AT_load_forecast_entsoe_transparency', 'AT_price_day_ahead',\n",
       "       'AT_solar_generation_actual', 'AT_wind_onshore_generation_actual',\n",
       "       'BE_load_actual_entsoe_transparency'],\n",
       "      dtype='object')"
      ]
     },
     "execution_count": 56,
     "metadata": {},
     "output_type": "execute_result"
    }
   ],
   "source": [
    "df.columns[0:7]"
   ]
  },
  {
   "cell_type": "code",
   "execution_count": 57,
   "id": "b3f3a910",
   "metadata": {},
   "outputs": [
    {
     "data": {
      "text/html": [
       "<div>\n",
       "<style scoped>\n",
       "    .dataframe tbody tr th:only-of-type {\n",
       "        vertical-align: middle;\n",
       "    }\n",
       "\n",
       "    .dataframe tbody tr th {\n",
       "        vertical-align: top;\n",
       "    }\n",
       "\n",
       "    .dataframe thead th {\n",
       "        text-align: right;\n",
       "    }\n",
       "</style>\n",
       "<table border=\"1\" class=\"dataframe\">\n",
       "  <thead>\n",
       "    <tr style=\"text-align: right;\">\n",
       "      <th></th>\n",
       "      <th>PL_load_actual_entsoe_transparency</th>\n",
       "      <th>PL_solar_generation_actual</th>\n",
       "      <th>PL_wind_onshore_generation_actual</th>\n",
       "    </tr>\n",
       "    <tr>\n",
       "      <th>utc_timestamp</th>\n",
       "      <th></th>\n",
       "      <th></th>\n",
       "      <th></th>\n",
       "    </tr>\n",
       "  </thead>\n",
       "  <tbody>\n",
       "    <tr>\n",
       "      <th>2014-12-31 23:00:00+00:00</th>\n",
       "      <td>NaN</td>\n",
       "      <td>NaN</td>\n",
       "      <td>NaN</td>\n",
       "    </tr>\n",
       "    <tr>\n",
       "      <th>2015-01-01 00:00:00+00:00</th>\n",
       "      <td>NaN</td>\n",
       "      <td>NaN</td>\n",
       "      <td>NaN</td>\n",
       "    </tr>\n",
       "    <tr>\n",
       "      <th>2015-01-01 01:00:00+00:00</th>\n",
       "      <td>13979.46</td>\n",
       "      <td>NaN</td>\n",
       "      <td>1444.43</td>\n",
       "    </tr>\n",
       "    <tr>\n",
       "      <th>2015-01-01 02:00:00+00:00</th>\n",
       "      <td>13453.78</td>\n",
       "      <td>NaN</td>\n",
       "      <td>1509.14</td>\n",
       "    </tr>\n",
       "    <tr>\n",
       "      <th>2015-01-01 03:00:00+00:00</th>\n",
       "      <td>13306.00</td>\n",
       "      <td>NaN</td>\n",
       "      <td>1548.33</td>\n",
       "    </tr>\n",
       "    <tr>\n",
       "      <th>...</th>\n",
       "      <td>...</td>\n",
       "      <td>...</td>\n",
       "      <td>...</td>\n",
       "    </tr>\n",
       "    <tr>\n",
       "      <th>2020-09-30 19:00:00+00:00</th>\n",
       "      <td>20788.89</td>\n",
       "      <td>NaN</td>\n",
       "      <td>1584.12</td>\n",
       "    </tr>\n",
       "    <tr>\n",
       "      <th>2020-09-30 20:00:00+00:00</th>\n",
       "      <td>19040.56</td>\n",
       "      <td>NaN</td>\n",
       "      <td>1329.56</td>\n",
       "    </tr>\n",
       "    <tr>\n",
       "      <th>2020-09-30 21:00:00+00:00</th>\n",
       "      <td>17697.31</td>\n",
       "      <td>NaN</td>\n",
       "      <td>1135.55</td>\n",
       "    </tr>\n",
       "    <tr>\n",
       "      <th>2020-09-30 22:00:00+00:00</th>\n",
       "      <td>16640.11</td>\n",
       "      <td>NaN</td>\n",
       "      <td>975.25</td>\n",
       "    </tr>\n",
       "    <tr>\n",
       "      <th>2020-09-30 23:00:00+00:00</th>\n",
       "      <td>NaN</td>\n",
       "      <td>NaN</td>\n",
       "      <td>NaN</td>\n",
       "    </tr>\n",
       "  </tbody>\n",
       "</table>\n",
       "<p>50401 rows × 3 columns</p>\n",
       "</div>"
      ],
      "text/plain": [
       "                           PL_load_actual_entsoe_transparency  \\\n",
       "utc_timestamp                                                   \n",
       "2014-12-31 23:00:00+00:00                                 NaN   \n",
       "2015-01-01 00:00:00+00:00                                 NaN   \n",
       "2015-01-01 01:00:00+00:00                            13979.46   \n",
       "2015-01-01 02:00:00+00:00                            13453.78   \n",
       "2015-01-01 03:00:00+00:00                            13306.00   \n",
       "...                                                       ...   \n",
       "2020-09-30 19:00:00+00:00                            20788.89   \n",
       "2020-09-30 20:00:00+00:00                            19040.56   \n",
       "2020-09-30 21:00:00+00:00                            17697.31   \n",
       "2020-09-30 22:00:00+00:00                            16640.11   \n",
       "2020-09-30 23:00:00+00:00                                 NaN   \n",
       "\n",
       "                           PL_solar_generation_actual  \\\n",
       "utc_timestamp                                           \n",
       "2014-12-31 23:00:00+00:00                         NaN   \n",
       "2015-01-01 00:00:00+00:00                         NaN   \n",
       "2015-01-01 01:00:00+00:00                         NaN   \n",
       "2015-01-01 02:00:00+00:00                         NaN   \n",
       "2015-01-01 03:00:00+00:00                         NaN   \n",
       "...                                               ...   \n",
       "2020-09-30 19:00:00+00:00                         NaN   \n",
       "2020-09-30 20:00:00+00:00                         NaN   \n",
       "2020-09-30 21:00:00+00:00                         NaN   \n",
       "2020-09-30 22:00:00+00:00                         NaN   \n",
       "2020-09-30 23:00:00+00:00                         NaN   \n",
       "\n",
       "                           PL_wind_onshore_generation_actual  \n",
       "utc_timestamp                                                 \n",
       "2014-12-31 23:00:00+00:00                                NaN  \n",
       "2015-01-01 00:00:00+00:00                                NaN  \n",
       "2015-01-01 01:00:00+00:00                            1444.43  \n",
       "2015-01-01 02:00:00+00:00                            1509.14  \n",
       "2015-01-01 03:00:00+00:00                            1548.33  \n",
       "...                                                      ...  \n",
       "2020-09-30 19:00:00+00:00                            1584.12  \n",
       "2020-09-30 20:00:00+00:00                            1329.56  \n",
       "2020-09-30 21:00:00+00:00                            1135.55  \n",
       "2020-09-30 22:00:00+00:00                             975.25  \n",
       "2020-09-30 23:00:00+00:00                                NaN  \n",
       "\n",
       "[50401 rows x 3 columns]"
      ]
     },
     "execution_count": 57,
     "metadata": {},
     "output_type": "execute_result"
    }
   ],
   "source": [
    "pl_columns = [col for col in df.columns if 'PL' in col]\n",
    "df_pl = df[pl_columns]\n",
    "df_pl = df_pl.drop(columns=[\"PL_load_forecast_entsoe_transparency\"])\n",
    "df_pl"
   ]
  },
  {
   "cell_type": "code",
   "execution_count": 58,
   "id": "12f3175b",
   "metadata": {},
   "outputs": [
    {
     "data": {
      "text/plain": [
       "PL_load_actual_entsoe_transparency        3\n",
       "PL_solar_generation_actual            46237\n",
       "PL_wind_onshore_generation_actual         3\n",
       "dtype: int64"
      ]
     },
     "execution_count": 58,
     "metadata": {},
     "output_type": "execute_result"
    }
   ],
   "source": [
    "df_pl.isna().sum()"
   ]
  },
  {
   "cell_type": "code",
   "execution_count": 59,
   "id": "fd532c9e",
   "metadata": {},
   "outputs": [
    {
     "data": {
      "text/plain": [
       "PL_load_actual_entsoe_transparency        0\n",
       "PL_solar_generation_actual            46234\n",
       "PL_wind_onshore_generation_actual         0\n",
       "dtype: int64"
      ]
     },
     "execution_count": 59,
     "metadata": {},
     "output_type": "execute_result"
    }
   ],
   "source": [
    "df_pl = df_pl.dropna(subset=[\"PL_load_actual_entsoe_transparency\"])\n",
    "df_pl.isna().sum()"
   ]
  },
  {
   "cell_type": "code",
   "execution_count": 60,
   "id": "37c75666",
   "metadata": {},
   "outputs": [
    {
     "data": {
      "text/plain": [
       "<Axes: xlabel='utc_timestamp'>"
      ]
     },
     "execution_count": 60,
     "metadata": {},
     "output_type": "execute_result"
    },
    {
     "data": {
      "image/png": "[encoded data removed]",
      "text/plain": [
       "<Figure size 640x480 with 1 Axes>"
      ]
     },
     "metadata": {},
     "output_type": "display_data"
    }
   ],
   "source": [
    "df_pl[\"PL_solar_generation_actual\"].plot()"
   ]
  },
  {
   "cell_type": "code",
   "execution_count": 61,
   "id": "23c5d31a",
   "metadata": {},
   "outputs": [
    {
     "name": "stderr",
     "output_type": "stream",
     "text": [
      "C:\\Users\\vange\\AppData\\Local\\Temp\\ipykernel_13552\\1060729082.py:1: SettingWithCopyWarning: \n",
      "A value is trying to be set on a copy of a slice from a DataFrame.\n",
      "Try using .loc[row_indexer,col_indexer] = value instead\n",
      "\n",
      "See the caveats in the documentation: https://pandas.pydata.org/pandas-docs/stable/user_guide/indexing.html#returning-a-view-versus-a-copy\n",
      "  df_pl[\"PL_solar_generation_actual\"] = df_pl[\"PL_solar_generation_actual\"].fillna(0)\n"
     ]
    },
    {
     "data": {
      "text/plain": [
       "PL_load_actual_entsoe_transparency    0\n",
       "PL_solar_generation_actual            0\n",
       "PL_wind_onshore_generation_actual     0\n",
       "dtype: int64"
      ]
     },
     "execution_count": 61,
     "metadata": {},
     "output_type": "execute_result"
    }
   ],
   "source": [
    "df_pl[\"PL_solar_generation_actual\"] = df_pl[\"PL_solar_generation_actual\"].fillna(0)\n",
    "df_pl.isna().sum()"
   ]
  },
  {
   "cell_type": "code",
   "execution_count": 62,
   "id": "eaa94d51",
   "metadata": {},
   "outputs": [
    {
     "data": {
      "text/plain": [
       "<Axes: xlabel='utc_timestamp'>"
      ]
     },
     "execution_count": 62,
     "metadata": {},
     "output_type": "execute_result"
    },
    {
     "data": {
      "image/png": "[encoded data removed]",
      "text/plain": [
       "<Figure size 640x480 with 1 Axes>"
      ]
     },
     "metadata": {},
     "output_type": "display_data"
    }
   ],
   "source": [
    "df_pl[\"PL_solar_generation_actual\"].plot()"
   ]
  },
  {
   "cell_type": "code",
   "execution_count": 63,
   "id": "ac09afc0",
   "metadata": {},
   "outputs": [],
   "source": [
    "df_pl.columns = [\"PL_load MW\", \"PL_solar_generation MW\", \"PL_wind_onshore_generation MW\"]"
   ]
  },
  {
   "cell_type": "code",
   "execution_count": 64,
   "id": "b17d063a",
   "metadata": {},
   "outputs": [],
   "source": [
    "df_pl = df_pl.copy()\n",
    "df_pl[\"hour\"] = df_pl.index.hour\n",
    "df_pl[\"dayofweek\"] = df_pl.index.dayofweek\n",
    "df_pl[\"month\"] = df_pl.index.month\n",
    "df_pl[\"is_weekend\"] = df_pl.index.dayofweek.isin([5, 6]).astype(int)\n",
    "df_pl[\"season\"] = df_pl[\"month\"] % 12 // 3 + 1  # 1=Winter, 2=Spring, etc."
   ]
  },
  {
   "cell_type": "code",
   "execution_count": 65,
   "id": "5a285462",
   "metadata": {},
   "outputs": [],
   "source": [
    "import holidays\n",
    "\n",
    "pl_holidays = holidays.Poland()\n",
    "df_pl[\"is_holiday\"] = df_pl.index.to_series().apply(lambda x: int(x.date() in pl_holidays))"
   ]
  },
  {
   "cell_type": "code",
   "execution_count": 66,
   "id": "cc7bf1c9",
   "metadata": {},
   "outputs": [
    {
     "data": {
      "text/plain": [
       "PL_load MW                        0\n",
       "PL_solar_generation MW            0\n",
       "PL_wind_onshore_generation MW     0\n",
       "hour                              0\n",
       "dayofweek                         0\n",
       "month                             0\n",
       "is_weekend                        0\n",
       "season                            0\n",
       "is_holiday                        0\n",
       "Load_lag_1h                       1\n",
       "Load_lag_24h                     24\n",
       "Load_rolling_mean_24h            23\n",
       "dtype: int64"
      ]
     },
     "execution_count": 66,
     "metadata": {},
     "output_type": "execute_result"
    }
   ],
   "source": [
    "df_pl[\"Load_lag_1h\"] = df_pl[\"PL_load MW\"].shift(1)\n",
    "df_pl[\"Load_lag_24h\"] = df_pl[\"PL_load MW\"].shift(24)\n",
    "df_pl[\"Load_rolling_mean_24h\"] = df_pl[\"PL_load MW\"].rolling(24).mean()\n",
    "df_pl.isna().sum()"
   ]
  },
  {
   "cell_type": "code",
   "execution_count": 67,
   "id": "27892486",
   "metadata": {},
   "outputs": [
    {
     "data": {
      "text/plain": [
       "PL_load MW                        0\n",
       "PL_solar_generation MW            0\n",
       "PL_wind_onshore_generation MW     0\n",
       "hour                              0\n",
       "dayofweek                         0\n",
       "month                             0\n",
       "is_weekend                        0\n",
       "season                            0\n",
       "is_holiday                        0\n",
       "Load_lag_1h                       1\n",
       "Load_lag_24h                     24\n",
       "Load_rolling_mean_24h            23\n",
       "Solar_lag_1h                      1\n",
       "Solar_lag_24h                    24\n",
       "Solar_rolling_mean_24h           23\n",
       "dtype: int64"
      ]
     },
     "execution_count": 67,
     "metadata": {},
     "output_type": "execute_result"
    }
   ],
   "source": [
    "df_pl[\"Solar_lag_1h\"] = df_pl[\"PL_solar_generation MW\"].shift(1)\n",
    "df_pl[\"Solar_lag_24h\"] = df_pl[\"PL_solar_generation MW\"].shift(24)\n",
    "df_pl[\"Solar_rolling_mean_24h\"] = df_pl[\"PL_solar_generation MW\"].rolling(24).mean()\n",
    "df_pl.isna().sum()"
   ]
  },
  {
   "cell_type": "code",
   "execution_count": 68,
   "id": "b1c0741c",
   "metadata": {},
   "outputs": [
    {
     "data": {
      "text/plain": [
       "PL_load MW                        0\n",
       "PL_solar_generation MW            0\n",
       "PL_wind_onshore_generation MW     0\n",
       "hour                              0\n",
       "dayofweek                         0\n",
       "month                             0\n",
       "is_weekend                        0\n",
       "season                            0\n",
       "is_holiday                        0\n",
       "Load_lag_1h                       1\n",
       "Load_lag_24h                     24\n",
       "Load_rolling_mean_24h            23\n",
       "Solar_lag_1h                      1\n",
       "Solar_lag_24h                    24\n",
       "Solar_rolling_mean_24h           23\n",
       "Wind_lag_1h                       1\n",
       "Wind_lag_24h                     24\n",
       "Wind_rolling_mean_24h            23\n",
       "dtype: int64"
      ]
     },
     "execution_count": 68,
     "metadata": {},
     "output_type": "execute_result"
    }
   ],
   "source": [
    "df_pl[\"Wind_lag_1h\"] = df_pl[\"PL_wind_onshore_generation MW\"].shift(1)\n",
    "df_pl[\"Wind_lag_24h\"] = df_pl[\"PL_wind_onshore_generation MW\"].shift(24)\n",
    "df_pl[\"Wind_rolling_mean_24h\"] = df_pl[\"PL_wind_onshore_generation MW\"].rolling(24).mean()\n",
    "df_pl.isna().sum()"
   ]
  },
  {
   "cell_type": "code",
   "execution_count": 69,
   "id": "3865108d",
   "metadata": {},
   "outputs": [
    {
     "data": {
      "text/html": [
       "<div>\n",
       "<style scoped>\n",
       "    .dataframe tbody tr th:only-of-type {\n",
       "        vertical-align: middle;\n",
       "    }\n",
       "\n",
       "    .dataframe tbody tr th {\n",
       "        vertical-align: top;\n",
       "    }\n",
       "\n",
       "    .dataframe thead th {\n",
       "        text-align: right;\n",
       "    }\n",
       "</style>\n",
       "<table border=\"1\" class=\"dataframe\">\n",
       "  <thead>\n",
       "    <tr style=\"text-align: right;\">\n",
       "      <th></th>\n",
       "      <th>PL_load MW</th>\n",
       "      <th>PL_solar_generation MW</th>\n",
       "      <th>PL_wind_onshore_generation MW</th>\n",
       "      <th>hour</th>\n",
       "      <th>dayofweek</th>\n",
       "      <th>month</th>\n",
       "      <th>is_weekend</th>\n",
       "      <th>season</th>\n",
       "      <th>is_holiday</th>\n",
       "      <th>Load_lag_1h</th>\n",
       "      <th>Load_lag_24h</th>\n",
       "      <th>Load_rolling_mean_24h</th>\n",
       "      <th>Solar_lag_1h</th>\n",
       "      <th>Solar_lag_24h</th>\n",
       "      <th>Solar_rolling_mean_24h</th>\n",
       "      <th>Wind_lag_1h</th>\n",
       "      <th>Wind_lag_24h</th>\n",
       "      <th>Wind_rolling_mean_24h</th>\n",
       "    </tr>\n",
       "    <tr>\n",
       "      <th>utc_timestamp</th>\n",
       "      <th></th>\n",
       "      <th></th>\n",
       "      <th></th>\n",
       "      <th></th>\n",
       "      <th></th>\n",
       "      <th></th>\n",
       "      <th></th>\n",
       "      <th></th>\n",
       "      <th></th>\n",
       "      <th></th>\n",
       "      <th></th>\n",
       "      <th></th>\n",
       "      <th></th>\n",
       "      <th></th>\n",
       "      <th></th>\n",
       "      <th></th>\n",
       "      <th></th>\n",
       "      <th></th>\n",
       "    </tr>\n",
       "  </thead>\n",
       "  <tbody>\n",
       "    <tr>\n",
       "      <th>2015-01-02 02:00:00</th>\n",
       "      <td>13010.58</td>\n",
       "      <td>0.0</td>\n",
       "      <td>2584.13</td>\n",
       "      <td>1</td>\n",
       "      <td>4</td>\n",
       "      <td>1</td>\n",
       "      <td>0</td>\n",
       "      <td>1</td>\n",
       "      <td>0</td>\n",
       "      <td>13258.48</td>\n",
       "      <td>13979.46</td>\n",
       "      <td>14920.307083</td>\n",
       "      <td>0.0</td>\n",
       "      <td>0.0</td>\n",
       "      <td>0.000000</td>\n",
       "      <td>2491.98</td>\n",
       "      <td>1444.43</td>\n",
       "      <td>1953.287083</td>\n",
       "    </tr>\n",
       "    <tr>\n",
       "      <th>2015-01-02 03:00:00</th>\n",
       "      <td>13006.90</td>\n",
       "      <td>0.0</td>\n",
       "      <td>2847.95</td>\n",
       "      <td>2</td>\n",
       "      <td>4</td>\n",
       "      <td>1</td>\n",
       "      <td>0</td>\n",
       "      <td>1</td>\n",
       "      <td>0</td>\n",
       "      <td>13010.58</td>\n",
       "      <td>13453.78</td>\n",
       "      <td>14901.687083</td>\n",
       "      <td>0.0</td>\n",
       "      <td>0.0</td>\n",
       "      <td>0.000000</td>\n",
       "      <td>2584.13</td>\n",
       "      <td>1509.14</td>\n",
       "      <td>2009.070833</td>\n",
       "    </tr>\n",
       "    <tr>\n",
       "      <th>2015-01-02 04:00:00</th>\n",
       "      <td>13241.45</td>\n",
       "      <td>0.0</td>\n",
       "      <td>3028.90</td>\n",
       "      <td>3</td>\n",
       "      <td>4</td>\n",
       "      <td>1</td>\n",
       "      <td>0</td>\n",
       "      <td>1</td>\n",
       "      <td>0</td>\n",
       "      <td>13006.90</td>\n",
       "      <td>13306.00</td>\n",
       "      <td>14898.997500</td>\n",
       "      <td>0.0</td>\n",
       "      <td>0.0</td>\n",
       "      <td>0.000000</td>\n",
       "      <td>2847.95</td>\n",
       "      <td>1548.33</td>\n",
       "      <td>2070.761250</td>\n",
       "    </tr>\n",
       "    <tr>\n",
       "      <th>2015-01-02 05:00:00</th>\n",
       "      <td>13985.83</td>\n",
       "      <td>0.0</td>\n",
       "      <td>3126.80</td>\n",
       "      <td>4</td>\n",
       "      <td>4</td>\n",
       "      <td>1</td>\n",
       "      <td>0</td>\n",
       "      <td>1</td>\n",
       "      <td>0</td>\n",
       "      <td>13241.45</td>\n",
       "      <td>13175.58</td>\n",
       "      <td>14932.757917</td>\n",
       "      <td>0.0</td>\n",
       "      <td>0.0</td>\n",
       "      <td>0.000000</td>\n",
       "      <td>3028.90</td>\n",
       "      <td>1618.57</td>\n",
       "      <td>2133.604167</td>\n",
       "    </tr>\n",
       "    <tr>\n",
       "      <th>2015-01-02 06:00:00</th>\n",
       "      <td>15719.83</td>\n",
       "      <td>0.0</td>\n",
       "      <td>3191.15</td>\n",
       "      <td>5</td>\n",
       "      <td>4</td>\n",
       "      <td>1</td>\n",
       "      <td>0</td>\n",
       "      <td>1</td>\n",
       "      <td>0</td>\n",
       "      <td>13985.83</td>\n",
       "      <td>13165.11</td>\n",
       "      <td>15039.204583</td>\n",
       "      <td>0.0</td>\n",
       "      <td>0.0</td>\n",
       "      <td>0.000000</td>\n",
       "      <td>3126.80</td>\n",
       "      <td>1660.39</td>\n",
       "      <td>2197.385833</td>\n",
       "    </tr>\n",
       "    <tr>\n",
       "      <th>...</th>\n",
       "      <td>...</td>\n",
       "      <td>...</td>\n",
       "      <td>...</td>\n",
       "      <td>...</td>\n",
       "      <td>...</td>\n",
       "      <td>...</td>\n",
       "      <td>...</td>\n",
       "      <td>...</td>\n",
       "      <td>...</td>\n",
       "      <td>...</td>\n",
       "      <td>...</td>\n",
       "      <td>...</td>\n",
       "      <td>...</td>\n",
       "      <td>...</td>\n",
       "      <td>...</td>\n",
       "      <td>...</td>\n",
       "      <td>...</td>\n",
       "      <td>...</td>\n",
       "    </tr>\n",
       "    <tr>\n",
       "      <th>2020-09-30 20:00:00</th>\n",
       "      <td>22467.26</td>\n",
       "      <td>0.0</td>\n",
       "      <td>1775.17</td>\n",
       "      <td>18</td>\n",
       "      <td>2</td>\n",
       "      <td>9</td>\n",
       "      <td>0</td>\n",
       "      <td>4</td>\n",
       "      <td>0</td>\n",
       "      <td>23201.60</td>\n",
       "      <td>22738.93</td>\n",
       "      <td>20276.732500</td>\n",
       "      <td>0.0</td>\n",
       "      <td>0.0</td>\n",
       "      <td>200.575417</td>\n",
       "      <td>1723.18</td>\n",
       "      <td>837.16</td>\n",
       "      <td>1062.002500</td>\n",
       "    </tr>\n",
       "    <tr>\n",
       "      <th>2020-09-30 21:00:00</th>\n",
       "      <td>20788.89</td>\n",
       "      <td>0.0</td>\n",
       "      <td>1584.12</td>\n",
       "      <td>19</td>\n",
       "      <td>2</td>\n",
       "      <td>9</td>\n",
       "      <td>0</td>\n",
       "      <td>4</td>\n",
       "      <td>0</td>\n",
       "      <td>22467.26</td>\n",
       "      <td>21026.58</td>\n",
       "      <td>20266.828750</td>\n",
       "      <td>0.0</td>\n",
       "      <td>0.0</td>\n",
       "      <td>200.575417</td>\n",
       "      <td>1775.17</td>\n",
       "      <td>851.23</td>\n",
       "      <td>1092.539583</td>\n",
       "    </tr>\n",
       "    <tr>\n",
       "      <th>2020-09-30 22:00:00</th>\n",
       "      <td>19040.56</td>\n",
       "      <td>0.0</td>\n",
       "      <td>1329.56</td>\n",
       "      <td>20</td>\n",
       "      <td>2</td>\n",
       "      <td>9</td>\n",
       "      <td>0</td>\n",
       "      <td>4</td>\n",
       "      <td>0</td>\n",
       "      <td>20788.89</td>\n",
       "      <td>19305.53</td>\n",
       "      <td>20255.788333</td>\n",
       "      <td>0.0</td>\n",
       "      <td>0.0</td>\n",
       "      <td>200.575417</td>\n",
       "      <td>1584.12</td>\n",
       "      <td>779.11</td>\n",
       "      <td>1115.475000</td>\n",
       "    </tr>\n",
       "    <tr>\n",
       "      <th>2020-09-30 23:00:00</th>\n",
       "      <td>17697.31</td>\n",
       "      <td>0.0</td>\n",
       "      <td>1135.55</td>\n",
       "      <td>21</td>\n",
       "      <td>2</td>\n",
       "      <td>9</td>\n",
       "      <td>0</td>\n",
       "      <td>4</td>\n",
       "      <td>0</td>\n",
       "      <td>19040.56</td>\n",
       "      <td>17940.21</td>\n",
       "      <td>20245.667500</td>\n",
       "      <td>0.0</td>\n",
       "      <td>0.0</td>\n",
       "      <td>200.575417</td>\n",
       "      <td>1329.56</td>\n",
       "      <td>710.68</td>\n",
       "      <td>1133.177917</td>\n",
       "    </tr>\n",
       "    <tr>\n",
       "      <th>2020-10-01 00:00:00</th>\n",
       "      <td>16640.11</td>\n",
       "      <td>0.0</td>\n",
       "      <td>975.25</td>\n",
       "      <td>22</td>\n",
       "      <td>2</td>\n",
       "      <td>9</td>\n",
       "      <td>0</td>\n",
       "      <td>4</td>\n",
       "      <td>0</td>\n",
       "      <td>17697.31</td>\n",
       "      <td>16858.75</td>\n",
       "      <td>20236.557500</td>\n",
       "      <td>0.0</td>\n",
       "      <td>0.0</td>\n",
       "      <td>200.575417</td>\n",
       "      <td>1135.55</td>\n",
       "      <td>663.57</td>\n",
       "      <td>1146.164583</td>\n",
       "    </tr>\n",
       "  </tbody>\n",
       "</table>\n",
       "<p>50374 rows × 18 columns</p>\n",
       "</div>"
      ],
      "text/plain": [
       "                     PL_load MW  PL_solar_generation MW  \\\n",
       "utc_timestamp                                             \n",
       "2015-01-02 02:00:00    13010.58                     0.0   \n",
       "2015-01-02 03:00:00    13006.90                     0.0   \n",
       "2015-01-02 04:00:00    13241.45                     0.0   \n",
       "2015-01-02 05:00:00    13985.83                     0.0   \n",
       "2015-01-02 06:00:00    15719.83                     0.0   \n",
       "...                         ...                     ...   \n",
       "2020-09-30 20:00:00    22467.26                     0.0   \n",
       "2020-09-30 21:00:00    20788.89                     0.0   \n",
       "2020-09-30 22:00:00    19040.56                     0.0   \n",
       "2020-09-30 23:00:00    17697.31                     0.0   \n",
       "2020-10-01 00:00:00    16640.11                     0.0   \n",
       "\n",
       "                     PL_wind_onshore_generation MW  hour  dayofweek  month  \\\n",
       "utc_timestamp                                                                \n",
       "2015-01-02 02:00:00                        2584.13     1          4      1   \n",
       "2015-01-02 03:00:00                        2847.95     2          4      1   \n",
       "2015-01-02 04:00:00                        3028.90     3          4      1   \n",
       "2015-01-02 05:00:00                        3126.80     4          4      1   \n",
       "2015-01-02 06:00:00                        3191.15     5          4      1   \n",
       "...                                            ...   ...        ...    ...   \n",
       "2020-09-30 20:00:00                        1775.17    18          2      9   \n",
       "2020-09-30 21:00:00                        1584.12    19          2      9   \n",
       "2020-09-30 22:00:00                        1329.56    20          2      9   \n",
       "2020-09-30 23:00:00                        1135.55    21          2      9   \n",
       "2020-10-01 00:00:00                         975.25    22          2      9   \n",
       "\n",
       "                     is_weekend  season  is_holiday  Load_lag_1h  \\\n",
       "utc_timestamp                                                      \n",
       "2015-01-02 02:00:00           0       1           0     13258.48   \n",
       "2015-01-02 03:00:00           0       1           0     13010.58   \n",
       "2015-01-02 04:00:00           0       1           0     13006.90   \n",
       "2015-01-02 05:00:00           0       1           0     13241.45   \n",
       "2015-01-02 06:00:00           0       1           0     13985.83   \n",
       "...                         ...     ...         ...          ...   \n",
       "2020-09-30 20:00:00           0       4           0     23201.60   \n",
       "2020-09-30 21:00:00           0       4           0     22467.26   \n",
       "2020-09-30 22:00:00           0       4           0     20788.89   \n",
       "2020-09-30 23:00:00           0       4           0     19040.56   \n",
       "2020-10-01 00:00:00           0       4           0     17697.31   \n",
       "\n",
       "                     Load_lag_24h  Load_rolling_mean_24h  Solar_lag_1h  \\\n",
       "utc_timestamp                                                            \n",
       "2015-01-02 02:00:00      13979.46           14920.307083           0.0   \n",
       "2015-01-02 03:00:00      13453.78           14901.687083           0.0   \n",
       "2015-01-02 04:00:00      13306.00           14898.997500           0.0   \n",
       "2015-01-02 05:00:00      13175.58           14932.757917           0.0   \n",
       "2015-01-02 06:00:00      13165.11           15039.204583           0.0   \n",
       "...                           ...                    ...           ...   \n",
       "2020-09-30 20:00:00      22738.93           20276.732500           0.0   \n",
       "2020-09-30 21:00:00      21026.58           20266.828750           0.0   \n",
       "2020-09-30 22:00:00      19305.53           20255.788333           0.0   \n",
       "2020-09-30 23:00:00      17940.21           20245.667500           0.0   \n",
       "2020-10-01 00:00:00      16858.75           20236.557500           0.0   \n",
       "\n",
       "                     Solar_lag_24h  Solar_rolling_mean_24h  Wind_lag_1h  \\\n",
       "utc_timestamp                                                             \n",
       "2015-01-02 02:00:00            0.0                0.000000      2491.98   \n",
       "2015-01-02 03:00:00            0.0                0.000000      2584.13   \n",
       "2015-01-02 04:00:00            0.0                0.000000      2847.95   \n",
       "2015-01-02 05:00:00            0.0                0.000000      3028.90   \n",
       "2015-01-02 06:00:00            0.0                0.000000      3126.80   \n",
       "...                            ...                     ...          ...   \n",
       "2020-09-30 20:00:00            0.0              200.575417      1723.18   \n",
       "2020-09-30 21:00:00            0.0              200.575417      1775.17   \n",
       "2020-09-30 22:00:00            0.0              200.575417      1584.12   \n",
       "2020-09-30 23:00:00            0.0              200.575417      1329.56   \n",
       "2020-10-01 00:00:00            0.0              200.575417      1135.55   \n",
       "\n",
       "                     Wind_lag_24h  Wind_rolling_mean_24h  \n",
       "utc_timestamp                                             \n",
       "2015-01-02 02:00:00       1444.43            1953.287083  \n",
       "2015-01-02 03:00:00       1509.14            2009.070833  \n",
       "2015-01-02 04:00:00       1548.33            2070.761250  \n",
       "2015-01-02 05:00:00       1618.57            2133.604167  \n",
       "2015-01-02 06:00:00       1660.39            2197.385833  \n",
       "...                           ...                    ...  \n",
       "2020-09-30 20:00:00        837.16            1062.002500  \n",
       "2020-09-30 21:00:00        851.23            1092.539583  \n",
       "2020-09-30 22:00:00        779.11            1115.475000  \n",
       "2020-09-30 23:00:00        710.68            1133.177917  \n",
       "2020-10-01 00:00:00        663.57            1146.164583  \n",
       "\n",
       "[50374 rows x 18 columns]"
      ]
     },
     "execution_count": 69,
     "metadata": {},
     "output_type": "execute_result"
    }
   ],
   "source": [
    "df_pl = df_pl.dropna()\n",
    "df_pl.index = df_pl.index.tz_convert(\"Europe/Warsaw\").tz_localize(None)\n",
    "df_pl"
   ]
  },
  {
   "cell_type": "code",
   "execution_count": 70,
   "id": "123c2d6e",
   "metadata": {},
   "outputs": [],
   "source": [
    "base_directory \n",
    "name = \"data\\\\PL_data.csv\"\n",
    "full = os.path.join(base_directory, name)\n",
    "df_pl.to_csv(full)"
   ]
  }
 ],
 "metadata": {
  "kernelspec": {
   "display_name": "Python 3",
   "language": "python",
   "name": "python3"
  },
  "language_info": {
   "codemirror_mode": {
    "name": "ipython",
    "version": 3
   },
   "file_extension": ".py",
   "mimetype": "text/x-python",
   "name": "python",
   "nbconvert_exporter": "python",
   "pygments_lexer": "ipython3",
   "version": "3.10.4"
  }
 },
 "nbformat": 4,
 "nbformat_minor": 5
}
