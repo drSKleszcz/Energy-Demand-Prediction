{
 "cells": [
  {
   "cell_type": "code",
   "execution_count": 39,
   "id": "8184cf3a",
   "metadata": {},
   "outputs": [
    {
     "name": "stdout",
     "output_type": "stream",
     "text": [
      "c:\\Energy-Demand-Prediction\\data\\weather_cracow.csv\n"
     ]
    }
   ],
   "source": [
    "import pandas as pd\n",
    "from pathlib import Path\n",
    "import os\n",
    "\n",
    "base_directory = Path(os.getcwd()).parent\n",
    "file_path = \"data\\\\weather_cracow.csv\"\n",
    "path = os.path.join(base_directory, file_path)\n",
    "\n",
    "print(path)"
   ]
  },
  {
   "cell_type": "code",
   "execution_count": 40,
   "id": "33b459b6",
   "metadata": {},
   "outputs": [],
   "source": [
    "df = pd.read_csv(path, delimiter=\",\", skiprows=3, parse_dates=[\"time\"], index_col=\"time\")"
   ]
  },
  {
   "cell_type": "code",
   "execution_count": 41,
   "id": "e3effe36",
   "metadata": {},
   "outputs": [
    {
     "data": {
      "text/plain": [
       "Index(['temperature_2m (°C)', 'rain (mm)', 'snowfall (cm)',\n",
       "       'apparent_temperature (°C)', 'relative_humidity_2m (%)',\n",
       "       'weather_code (wmo code)', 'is_day ()'],\n",
       "      dtype='object')"
      ]
     },
     "execution_count": 41,
     "metadata": {},
     "output_type": "execute_result"
    }
   ],
   "source": [
    "df.columns"
   ]
  },
  {
   "cell_type": "code",
   "execution_count": 42,
   "id": "6ad95d20",
   "metadata": {},
   "outputs": [],
   "source": [
    "df.columns = (\n",
    "    df.columns\n",
    "    .str.replace(\"(\", \"\", regex=False)  # remove anything in parentheses\n",
    "    .str.replace(\")\", \"\", regex=False)  # remove anything in parentheses\n",
    "    .str.replace(\"°\", \"\", regex=False)        # remove degree symbol\n",
    "    .str.replace(\"%\", \"\", regex=False)        # optional: remove percent sign\n",
    "    .str.replace(\"  \", \" \")                   # fix double spaces\n",
    "    .str.strip()                              # remove leading/trailing spaces\n",
    "    .str.lower().str.replace(\" \", \"_\")        # optional: lowercase + underscores\n",
    ")"
   ]
  },
  {
   "cell_type": "code",
   "execution_count": 43,
   "id": "b3f3a910",
   "metadata": {},
   "outputs": [
    {
     "data": {
      "text/html": [
       "<div>\n",
       "<style scoped>\n",
       "    .dataframe tbody tr th:only-of-type {\n",
       "        vertical-align: middle;\n",
       "    }\n",
       "\n",
       "    .dataframe tbody tr th {\n",
       "        vertical-align: top;\n",
       "    }\n",
       "\n",
       "    .dataframe thead th {\n",
       "        text-align: right;\n",
       "    }\n",
       "</style>\n",
       "<table border=\"1\" class=\"dataframe\">\n",
       "  <thead>\n",
       "    <tr style=\"text-align: right;\">\n",
       "      <th></th>\n",
       "      <th>temperature_2m_c</th>\n",
       "      <th>rain_mm</th>\n",
       "      <th>snowfall_cm</th>\n",
       "      <th>apparent_temperature_c</th>\n",
       "      <th>relative_humidity_2m</th>\n",
       "      <th>weather_code_wmo_code</th>\n",
       "      <th>is_day</th>\n",
       "    </tr>\n",
       "    <tr>\n",
       "      <th>time</th>\n",
       "      <th></th>\n",
       "      <th></th>\n",
       "      <th></th>\n",
       "      <th></th>\n",
       "      <th></th>\n",
       "      <th></th>\n",
       "      <th></th>\n",
       "    </tr>\n",
       "  </thead>\n",
       "  <tbody>\n",
       "    <tr>\n",
       "      <th>2015-01-02 00:00:00</th>\n",
       "      <td>-1.0</td>\n",
       "      <td>0.0</td>\n",
       "      <td>0.0</td>\n",
       "      <td>-5.5</td>\n",
       "      <td>85</td>\n",
       "      <td>3</td>\n",
       "      <td>0</td>\n",
       "    </tr>\n",
       "    <tr>\n",
       "      <th>2015-01-02 01:00:00</th>\n",
       "      <td>-0.1</td>\n",
       "      <td>0.0</td>\n",
       "      <td>0.0</td>\n",
       "      <td>-4.4</td>\n",
       "      <td>84</td>\n",
       "      <td>2</td>\n",
       "      <td>0</td>\n",
       "    </tr>\n",
       "    <tr>\n",
       "      <th>2015-01-02 02:00:00</th>\n",
       "      <td>0.0</td>\n",
       "      <td>0.0</td>\n",
       "      <td>0.0</td>\n",
       "      <td>-4.2</td>\n",
       "      <td>85</td>\n",
       "      <td>3</td>\n",
       "      <td>0</td>\n",
       "    </tr>\n",
       "    <tr>\n",
       "      <th>2015-01-02 03:00:00</th>\n",
       "      <td>0.5</td>\n",
       "      <td>0.0</td>\n",
       "      <td>0.0</td>\n",
       "      <td>-3.7</td>\n",
       "      <td>86</td>\n",
       "      <td>3</td>\n",
       "      <td>0</td>\n",
       "    </tr>\n",
       "    <tr>\n",
       "      <th>2015-01-02 04:00:00</th>\n",
       "      <td>1.1</td>\n",
       "      <td>0.0</td>\n",
       "      <td>0.0</td>\n",
       "      <td>-3.1</td>\n",
       "      <td>87</td>\n",
       "      <td>3</td>\n",
       "      <td>0</td>\n",
       "    </tr>\n",
       "    <tr>\n",
       "      <th>...</th>\n",
       "      <td>...</td>\n",
       "      <td>...</td>\n",
       "      <td>...</td>\n",
       "      <td>...</td>\n",
       "      <td>...</td>\n",
       "      <td>...</td>\n",
       "      <td>...</td>\n",
       "    </tr>\n",
       "    <tr>\n",
       "      <th>2020-09-30 19:00:00</th>\n",
       "      <td>12.9</td>\n",
       "      <td>0.4</td>\n",
       "      <td>0.0</td>\n",
       "      <td>11.4</td>\n",
       "      <td>92</td>\n",
       "      <td>51</td>\n",
       "      <td>0</td>\n",
       "    </tr>\n",
       "    <tr>\n",
       "      <th>2020-09-30 20:00:00</th>\n",
       "      <td>12.5</td>\n",
       "      <td>0.1</td>\n",
       "      <td>0.0</td>\n",
       "      <td>11.1</td>\n",
       "      <td>92</td>\n",
       "      <td>51</td>\n",
       "      <td>0</td>\n",
       "    </tr>\n",
       "    <tr>\n",
       "      <th>2020-09-30 21:00:00</th>\n",
       "      <td>12.4</td>\n",
       "      <td>0.0</td>\n",
       "      <td>0.0</td>\n",
       "      <td>11.1</td>\n",
       "      <td>92</td>\n",
       "      <td>3</td>\n",
       "      <td>0</td>\n",
       "    </tr>\n",
       "    <tr>\n",
       "      <th>2020-09-30 22:00:00</th>\n",
       "      <td>12.3</td>\n",
       "      <td>0.0</td>\n",
       "      <td>0.0</td>\n",
       "      <td>11.2</td>\n",
       "      <td>92</td>\n",
       "      <td>3</td>\n",
       "      <td>0</td>\n",
       "    </tr>\n",
       "    <tr>\n",
       "      <th>2020-09-30 23:00:00</th>\n",
       "      <td>12.3</td>\n",
       "      <td>0.0</td>\n",
       "      <td>0.0</td>\n",
       "      <td>11.3</td>\n",
       "      <td>93</td>\n",
       "      <td>3</td>\n",
       "      <td>0</td>\n",
       "    </tr>\n",
       "  </tbody>\n",
       "</table>\n",
       "<p>50376 rows × 7 columns</p>\n",
       "</div>"
      ],
      "text/plain": [
       "                     temperature_2m_c  rain_mm  snowfall_cm  \\\n",
       "time                                                          \n",
       "2015-01-02 00:00:00              -1.0      0.0          0.0   \n",
       "2015-01-02 01:00:00              -0.1      0.0          0.0   \n",
       "2015-01-02 02:00:00               0.0      0.0          0.0   \n",
       "2015-01-02 03:00:00               0.5      0.0          0.0   \n",
       "2015-01-02 04:00:00               1.1      0.0          0.0   \n",
       "...                               ...      ...          ...   \n",
       "2020-09-30 19:00:00              12.9      0.4          0.0   \n",
       "2020-09-30 20:00:00              12.5      0.1          0.0   \n",
       "2020-09-30 21:00:00              12.4      0.0          0.0   \n",
       "2020-09-30 22:00:00              12.3      0.0          0.0   \n",
       "2020-09-30 23:00:00              12.3      0.0          0.0   \n",
       "\n",
       "                     apparent_temperature_c  relative_humidity_2m  \\\n",
       "time                                                                \n",
       "2015-01-02 00:00:00                    -5.5                    85   \n",
       "2015-01-02 01:00:00                    -4.4                    84   \n",
       "2015-01-02 02:00:00                    -4.2                    85   \n",
       "2015-01-02 03:00:00                    -3.7                    86   \n",
       "2015-01-02 04:00:00                    -3.1                    87   \n",
       "...                                     ...                   ...   \n",
       "2020-09-30 19:00:00                    11.4                    92   \n",
       "2020-09-30 20:00:00                    11.1                    92   \n",
       "2020-09-30 21:00:00                    11.1                    92   \n",
       "2020-09-30 22:00:00                    11.2                    92   \n",
       "2020-09-30 23:00:00                    11.3                    93   \n",
       "\n",
       "                     weather_code_wmo_code  is_day  \n",
       "time                                                \n",
       "2015-01-02 00:00:00                      3       0  \n",
       "2015-01-02 01:00:00                      2       0  \n",
       "2015-01-02 02:00:00                      3       0  \n",
       "2015-01-02 03:00:00                      3       0  \n",
       "2015-01-02 04:00:00                      3       0  \n",
       "...                                    ...     ...  \n",
       "2020-09-30 19:00:00                     51       0  \n",
       "2020-09-30 20:00:00                     51       0  \n",
       "2020-09-30 21:00:00                      3       0  \n",
       "2020-09-30 22:00:00                      3       0  \n",
       "2020-09-30 23:00:00                      3       0  \n",
       "\n",
       "[50376 rows x 7 columns]"
      ]
     },
     "execution_count": 43,
     "metadata": {},
     "output_type": "execute_result"
    }
   ],
   "source": [
    "df"
   ]
  },
  {
   "cell_type": "code",
   "execution_count": 44,
   "id": "12f3175b",
   "metadata": {},
   "outputs": [
    {
     "data": {
      "text/plain": [
       "temperature_2m_c          0\n",
       "rain_mm                   0\n",
       "snowfall_cm               0\n",
       "apparent_temperature_c    0\n",
       "relative_humidity_2m      0\n",
       "weather_code_wmo_code     0\n",
       "is_day                    0\n",
       "dtype: int64"
      ]
     },
     "execution_count": 44,
     "metadata": {},
     "output_type": "execute_result"
    }
   ],
   "source": [
    "df.isna().sum()"
   ]
  },
  {
   "cell_type": "code",
   "execution_count": 45,
   "id": "ae58d451",
   "metadata": {},
   "outputs": [
    {
     "data": {
      "text/plain": [
       "temperature_2m_c                 0\n",
       "rain_mm                          0\n",
       "snowfall_cm                      0\n",
       "apparent_temperature_c           0\n",
       "relative_humidity_2m             0\n",
       "weather_code_wmo_code            0\n",
       "is_day                           0\n",
       "temperature_1h                   1\n",
       "temperature_24h                 24\n",
       "temperature_rolling_mean_24h    23\n",
       "dtype: int64"
      ]
     },
     "execution_count": 45,
     "metadata": {},
     "output_type": "execute_result"
    }
   ],
   "source": [
    "df[\"temperature_1h\"] = df[\"temperature_2m_c\"].shift(1)\n",
    "df[\"temperature_24h\"] = df[\"temperature_2m_c\"].shift(24)\n",
    "df[\"temperature_rolling_mean_24h\"] = df[\"temperature_2m_c\"].rolling(24).mean()\n",
    "df.isna().sum()"
   ]
  },
  {
   "cell_type": "code",
   "execution_count": 46,
   "id": "2760cdd2",
   "metadata": {},
   "outputs": [
    {
     "data": {
      "text/plain": [
       "temperature_2m_c                          0\n",
       "rain_mm                                   0\n",
       "snowfall_cm                               0\n",
       "apparent_temperature_c                    0\n",
       "relative_humidity_2m                      0\n",
       "weather_code_wmo_code                     0\n",
       "is_day                                    0\n",
       "temperature_1h                            1\n",
       "temperature_24h                          24\n",
       "temperature_rolling_mean_24h             23\n",
       "apparent_temperature_1h                   1\n",
       "apparent_temperature_24h                 24\n",
       "apparent_temperature_rolling_mean_24h    23\n",
       "dtype: int64"
      ]
     },
     "execution_count": 46,
     "metadata": {},
     "output_type": "execute_result"
    }
   ],
   "source": [
    "df[\"apparent_temperature_1h\"] = df[\"apparent_temperature_c\"].shift(1)\n",
    "df[\"apparent_temperature_24h\"] = df[\"apparent_temperature_c\"].shift(24)\n",
    "df[\"apparent_temperature_rolling_mean_24h\"] = df[\"apparent_temperature_c\"].rolling(24).mean()\n",
    "df.isna().sum()"
   ]
  },
  {
   "cell_type": "code",
   "execution_count": 47,
   "id": "44a0ff0c",
   "metadata": {},
   "outputs": [],
   "source": [
    "df = df.dropna()"
   ]
  },
  {
   "cell_type": "code",
   "execution_count": 48,
   "id": "0f06b6cf",
   "metadata": {},
   "outputs": [],
   "source": [
    "base_directory \n",
    "name = \"data\\\\weather_data.csv\"\n",
    "full = os.path.join(base_directory, name)\n",
    "df.to_csv(full)"
   ]
  }
 ],
 "metadata": {
  "kernelspec": {
   "display_name": "Python 3",
   "language": "python",
   "name": "python3"
  },
  "language_info": {
   "codemirror_mode": {
    "name": "ipython",
    "version": 3
   },
   "file_extension": ".py",
   "mimetype": "text/x-python",
   "name": "python",
   "nbconvert_exporter": "python",
   "pygments_lexer": "ipython3",
   "version": "3.10.4"
  }
 },
 "nbformat": 4,
 "nbformat_minor": 5
}
